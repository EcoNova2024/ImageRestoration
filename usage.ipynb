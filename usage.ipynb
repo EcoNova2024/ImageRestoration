{
 "cells": [
  {
   "cell_type": "code",
   "execution_count": 1,
   "metadata": {},
   "outputs": [
    {
     "name": "stdout",
     "output_type": "stream",
     "text": [
      "Restored image saved.\n"
     ]
    }
   ],
   "source": [
    "import requests\n",
    "import base64\n",
    "\n",
    "# Function to read and encode the image in Base64\n",
    "def encode_image_to_base64(image_path):\n",
    "    with open(image_path, \"rb\") as img_file:\n",
    "        img_bytes = img_file.read()\n",
    "        return base64.b64encode(img_bytes).decode('utf-8')\n",
    "\n",
    "# API URL\n",
    "url = 'http://127.0.0.1:5000/restore-image'\n",
    "\n",
    "# Path to the image\n",
    "image_path = 'img.jpeg'  # Replace with your image path\n",
    "\n",
    "# Encode the image to Base64\n",
    "base64_image = encode_image_to_base64(image_path)\n",
    "\n",
    "# Prepare the payload\n",
    "payload = {'image': base64_image}\n",
    "\n",
    "# Send the request\n",
    "response = requests.post(url, json=payload)\n",
    "\n",
    "if response.status_code == 200:\n",
    "    # Save the restored image to a file\n",
    "    with open('restored_image.jpg', 'wb') as f:\n",
    "        f.write(response.content)\n",
    "    print(\"Restored image saved.\")\n",
    "else:\n",
    "    print(\"Error:\", response.json())\n"
   ]
  }
 ],
 "metadata": {
  "kernelspec": {
   "display_name": "transformer",
   "language": "python",
   "name": "python3"
  },
  "language_info": {
   "codemirror_mode": {
    "name": "ipython",
    "version": 3
   },
   "file_extension": ".py",
   "mimetype": "text/x-python",
   "name": "python",
   "nbconvert_exporter": "python",
   "pygments_lexer": "ipython3",
   "version": "3.10.13"
  }
 },
 "nbformat": 4,
 "nbformat_minor": 2
}
